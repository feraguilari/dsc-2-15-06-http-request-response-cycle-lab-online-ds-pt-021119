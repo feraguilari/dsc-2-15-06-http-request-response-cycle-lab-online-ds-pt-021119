{
 "cells": [
  {
   "cell_type": "markdown",
   "metadata": {},
   "source": [
    "# HTTP Request/Response Cycle - Lab\n",
    "\n",
    "## Introduction \n",
    "\n",
    "In this lab, we shall make use of the `requests` module commands and properties seen in the previous lesson, to extract information for a web service called **\"Open Notify\"** to access NASA's space data. \n",
    "\n",
    "## Objectives\n",
    "\n",
    "You will be able to:\n",
    "\n",
    "* Understand and explain the HTTP Request/Response cycle\n",
    "* Make http requests in Python using the ‘requests’ library"
   ]
  },
  {
   "cell_type": "markdown",
   "metadata": {},
   "source": [
    "## Open Notify \n",
    "\n",
    "[Open Notify](http://open-notify.org/)  is an an open source project to provide a simple programming interface for some of NASA’s awesome data. This takes live raw data from NASA's systems and turn them into APIs related to space and spacecraft. We can access following information from open notify. \n",
    "\n",
    "* Current Location of the International Space Station\n",
    "\n",
    "    * (The ISS is currently over 22.014° N, -101.057° E)\n",
    "\n",
    "* Overhead Pass Predictions for the International Space Station\n",
    "\n",
    "* Number of People in Space\n",
    "\n",
    "    * (There are currently 3 humans in space)\n",
    "    \n",
    "### API endpoints\n",
    "\n",
    "OpenNotify has several API endpoints. \n",
    ">An endpoint is a server route that is used to retrieve different data from the API. \n",
    "\n",
    "For example, the `/comments` endpoint on the Reddit API might retrieve information about comments, whereas the `/users` endpoint might retrieve data about users. To access them, you would add the endpoint to the base url of the API.\n",
    "\n",
    "For the OpenNotify API, we have following end points \n",
    "\n",
    "1. Current Location of the International Space Station `/iss-now.json`\n",
    "2. Overhead Pass Predictions for the International Space Station `/iss-pass.json`    \n",
    "3. Number of People in Space `/astros.json`\n",
    "\n",
    "The json extension simple tells us that the data is being returned in a JSON format.\n",
    "\n",
    "In this lab, we'll be querying a this API to retrieve live data about the International Space Station (ISS). Details on OpenNofity , endpoints, syntax and services it offers can be viewed [Here](http://open-notify.org/Open-Notify-API/)\n",
    "\n",
    "![](iss.jpg)\n",
    "\n"
   ]
  },
  {
   "cell_type": "markdown",
   "metadata": {},
   "source": [
    "### Current location of International Space Station\n",
    "\n",
    "The first endpoint we'll look at on OpenNotify is the` iss-now.json` endpoint (current location of international space station). This endpoint gets the current latitude and longitude of the International Space Station.  Perform following tasks \n",
    "* Make a get request to get the latest position of the international space station from the opennotify api's iss_now endpoint at http://api.open-notify.org/iss-now.json\n",
    "* Check the status code of the response\n",
    "* Interpret the returned code"
   ]
  },
  {
   "cell_type": "code",
   "execution_count": 9,
   "metadata": {},
   "outputs": [
    {
     "name": "stdout",
     "output_type": "stream",
     "text": [
      "200\n"
     ]
    }
   ],
   "source": [
    "# You Code Here\n",
    "import requests\n",
    "r = requests.get('http://api.open-notify.org/iss-now.json')\n",
    "print(r.status_code)"
   ]
  },
  {
   "cell_type": "code",
   "execution_count": 2,
   "metadata": {},
   "outputs": [],
   "source": [
    "# Your comments\n",
    "#The request has been successfull"
   ]
  },
  {
   "cell_type": "markdown",
   "metadata": {},
   "source": [
    "* Print the contents of the response and identify its current location"
   ]
  },
  {
   "cell_type": "code",
   "execution_count": 10,
   "metadata": {},
   "outputs": [
    {
     "name": "stdout",
     "output_type": "stream",
     "text": [
      "{'message': 'success', 'iss_position': {'latitude': '21.6006', 'longitude': '-91.2602'}, 'timestamp': 1555967626}\n"
     ]
    }
   ],
   "source": [
    "# You Code Here\n",
    "print(r.json())"
   ]
  },
  {
   "cell_type": "code",
   "execution_count": 4,
   "metadata": {},
   "outputs": [],
   "source": [
    "# Interpret your results using the API\n",
    "# The current position is 'latitude': '21.6006', 'longitude': '-91.2602'"
   ]
  },
  {
   "cell_type": "markdown",
   "metadata": {},
   "source": [
    "### Check the next pass of International space station for a given location"
   ]
  },
  {
   "cell_type": "markdown",
   "metadata": {},
   "source": [
    "Let's repeat the above for the second endpoint `iss_pass.json`. This end point is used to query the next pass of the space station on a given location. Let's just run as above and record your observations"
   ]
  },
  {
   "cell_type": "code",
   "execution_count": 20,
   "metadata": {},
   "outputs": [
    {
     "name": "stdout",
     "output_type": "stream",
     "text": [
      "400\n"
     ]
    }
   ],
   "source": [
    "# You Code Here\n",
    "r = requests.get('http://api.open-notify.org/iss-pass.json')\n",
    "print(r.status_code)"
   ]
  },
  {
   "cell_type": "code",
   "execution_count": 6,
   "metadata": {},
   "outputs": [],
   "source": [
    "# Your comments \n",
    "# I did nto get a successfull response"
   ]
  },
  {
   "cell_type": "markdown",
   "metadata": {},
   "source": [
    "So clearly there is something wrong as we had a 400 response. This is how you should always test your responses for validity. \n",
    "\n",
    "if we look at the documentation for the OpenNotify API, we see that the ISS Pass endpoint requires two parameters.\n",
    "\n",
    "> The ISS Pass endpoint returns when the ISS will next pass over a given location on earth. In order to compute this, we need to pass the coordinates of the location to the API. We do this by passing two parameters -- latitude and longitude.\n",
    "\n",
    "We can do this by adding an optional keyword argument, params, to our request. In this case, there are two parameters we need to pass:\n",
    "\n",
    "* lat -- The latitude of the location we want.\n",
    "* lon -- The longitude of the location we want.\n",
    "\n",
    "Perform the following tasks :\n",
    "* Set parameters to reflect the lat and long of New York  (40.71, -74)\n",
    "* Send a get request to OpenNotify passing in the lat long parameters as k:v pairs in a dictionary\n",
    "* Check the status code and interpret\n",
    "* Print the header information and the returned content"
   ]
  },
  {
   "cell_type": "code",
   "execution_count": 22,
   "metadata": {},
   "outputs": [
    {
     "name": "stdout",
     "output_type": "stream",
     "text": [
      "200\n"
     ]
    }
   ],
   "source": [
    "# You Code Here\n",
    "params = {'lat':40.71, 'lon':-74}\n",
    "r = requests.get('http://api.open-notify.org/iss-pass.json', params)\n",
    "print(r.status_code)"
   ]
  },
  {
   "cell_type": "code",
   "execution_count": 36,
   "metadata": {},
   "outputs": [
    {
     "name": "stdout",
     "output_type": "stream",
     "text": [
      "{'message': 'success', 'request': {'altitude': 100, 'datetime': 1555966656, 'latitude': 40.71, 'longitude': -74.0, 'passes': 5}, 'response': [{'duration': 571, 'risetime': 1556015752}, {'duration': 643, 'risetime': 1556021493}, {'duration': 577, 'risetime': 1556027354}, {'duration': 557, 'risetime': 1556033222}, {'duration': 625, 'risetime': 1556039030}]}\n",
      "Next NY pass:  2019-04-23 10:35:52\n"
     ]
    }
   ],
   "source": [
    "print(r.json())\n",
    "resp = dict(r.json())\n",
    "print('Next NY pass: ', datetime.utcfromtimestamp(resp['response'][0]['risetime']).strftime('%Y-%m-%d %H:%M:%S'))\n",
    "# Check the API and interpret your results - when will ISS pass over NEW York next ?\n",
    "# It will pass NY on 2019-04-23 10:35:52"
   ]
  },
  {
   "cell_type": "markdown",
   "metadata": {},
   "source": [
    "### Finding the number of people in space\n",
    "\n",
    "OpenNotify has one more API endpoint, `/astros.json`. It tells you how many people are currently in space. The format of the responses can be studied [HERE](http://open-notify.org/Open-Notify-API/People-In-Space/).\n",
    "\n",
    "Read the above documentation and perform following tasks:\n",
    "\n",
    "* Get the response from astros.json endpoint\n",
    "* Count how many people are currently in space\n",
    "* List the names of people currently in space."
   ]
  },
  {
   "cell_type": "code",
   "execution_count": 54,
   "metadata": {},
   "outputs": [
    {
     "name": "stdout",
     "output_type": "stream",
     "text": [
      "200\n",
      "dict_keys(['message', 'number', 'people'])\n",
      "Number of people in space:  6\n",
      "Names of people in space:\n",
      "1 .  Oleg Kononenko\n",
      "2 .  David Saint-Jacques\n",
      "3 .  Anne McClain\n",
      "4 .  Alexey Ovchinin\n",
      "5 .  Nick Hague\n",
      "6 .  Christina Koch\n"
     ]
    }
   ],
   "source": [
    "# You Code Here\n",
    "r = requests.get('http://api.open-notify.org/astros.json')\n",
    "print(r.status_code)\n",
    "astros = dict(r.json())\n",
    "print(astros.keys())\n",
    "print('Number of people in space: ', astros['number'])\n",
    "print('Names of people in space:')\n",
    "for i in range(len(astros['people'])):\n",
    "    print(i+1,'. ',astros['people'][i]['name'])"
   ]
  },
  {
   "cell_type": "code",
   "execution_count": 10,
   "metadata": {},
   "outputs": [],
   "source": [
    "# Interpret the Results - How many people are in space and what are their names\n",
    "#There are six people in space."
   ]
  },
  {
   "cell_type": "markdown",
   "metadata": {},
   "source": [
    "## Summary \n",
    "\n",
    "In this lesson we saw how we can use request and response methods to query an Open API. We also saw how to look at the contents returned with the API calls and how to parse them. Next we shall look at connecting to APIs which are not OPEN , i.e. we would need to paass in some authentication information and filter the results. "
   ]
  }
 ],
 "metadata": {
  "kernelspec": {
   "display_name": "Python 3",
   "language": "python",
   "name": "python3"
  },
  "language_info": {
   "codemirror_mode": {
    "name": "ipython",
    "version": 3
   },
   "file_extension": ".py",
   "mimetype": "text/x-python",
   "name": "python",
   "nbconvert_exporter": "python",
   "pygments_lexer": "ipython3",
   "version": "3.6.6"
  }
 },
 "nbformat": 4,
 "nbformat_minor": 2
}
